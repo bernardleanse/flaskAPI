{
 "cells": [
  {
   "cell_type": "code",
   "execution_count": 1,
   "metadata": {},
   "outputs": [],
   "source": [
    "from app import get_quantity_of_records, db_cons"
   ]
  },
  {
   "cell_type": "code",
   "execution_count": 2,
   "metadata": {},
   "outputs": [
    {
     "data": {
      "text/plain": [
       "{'gbr': <connection object at 0x7f8b58dfa6d0; dsn: 'user=seta password=xxx dbname=gbr host=seta-gbr.cvcpj1fhj3k9.us-east-2.rds.amazonaws.com', closed: 0>,\n",
       " 'arg': <connection object at 0x7f8b58dfa820; dsn: 'user=seta password=xxx dbname=arg host=seta-arg.cvcpj1fhj3k9.us-east-2.rds.amazonaws.com', closed: 0>,\n",
       " 'bra': <connection object at 0x7f8b58dfa970; dsn: 'user=seta password=xxx dbname=bra host=seta-bra.cvcpj1fhj3k9.us-east-2.rds.amazonaws.com', closed: 0>,\n",
       " 'brn': <connection object at 0x7f8b58dfaac0; dsn: 'user=seta password=xxx dbname=brn host=seta-brn.cvcpj1fhj3k9.us-east-2.rds.amazonaws.com', closed: 0>,\n",
       " 'can': <connection object at 0x7f8b58dfac10; dsn: 'user=seta password=xxx dbname=can host=seta-can.cvcpj1fhj3k9.us-east-2.rds.amazonaws.com', closed: 0>,\n",
       " 'che': <connection object at 0x7f8b58dfad60; dsn: 'user=seta password=xxx dbname=che host=seta-che.cvcpj1fhj3k9.us-east-2.rds.amazonaws.com', closed: 0>,\n",
       " 'chl': <connection object at 0x7f8b58dfaeb0; dsn: 'user=seta password=xxx dbname=chl host=seta-chl.cvcpj1fhj3k9.us-east-2.rds.amazonaws.com', closed: 0>,\n",
       " 'col': <connection object at 0x7f8b58e2f040; dsn: 'user=seta password=xxx dbname=col host=seta-col.cvcpj1fhj3k9.us-east-2.rds.amazonaws.com', closed: 0>,\n",
       " 'cri': <connection object at 0x7f8b58e2f190; dsn: 'user=seta password=xxx dbname=cri host=seta-cri.cvcpj1fhj3k9.us-east-2.rds.amazonaws.com', closed: 0>,\n",
       " 'cze': <connection object at 0x7f8b58e2f2e0; dsn: 'user=seta password=xxx dbname=cze host=seta-cze.cvcpj1fhj3k9.us-east-2.rds.amazonaws.com', closed: 0>,\n",
       " 'deu': <connection object at 0x7f8b58e2f430; dsn: 'user=seta password=xxx dbname=deu host=seta-deu.cvcpj1fhj3k9.us-east-2.rds.amazonaws.com', closed: 0>,\n",
       " 'dnk': <connection object at 0x7f8b58e2f580; dsn: 'user=seta password=xxx dbname=dnk host=seta-dnk.cvcpj1fhj3k9.us-east-2.rds.amazonaws.com', closed: 0>,\n",
       " 'dom': <connection object at 0x7f8b58e2f6d0; dsn: 'user=seta password=xxx dbname=dom host=seta-dom.cvcpj1fhj3k9.us-east-2.rds.amazonaws.com', closed: 0>,\n",
       " 'esp': <connection object at 0x7f8b58e2f820; dsn: 'user=seta password=xxx dbname=esp host=seta-esp.cvcpj1fhj3k9.us-east-2.rds.amazonaws.com', closed: 0>,\n",
       " 'est': <connection object at 0x7f8b58e2f970; dsn: 'user=seta password=xxx dbname=est host=seta-est.cvcpj1fhj3k9.us-east-2.rds.amazonaws.com', closed: 0>,\n",
       " 'fin': <connection object at 0x7f8b58e2fac0; dsn: 'user=seta password=xxx dbname=fin host=seta-fin.cvcpj1fhj3k9.us-east-2.rds.amazonaws.com', closed: 0>}"
      ]
     },
     "execution_count": 2,
     "metadata": {},
     "output_type": "execute_result"
    }
   ],
   "source": [
    "db_cons.connections"
   ]
  },
  {
   "cell_type": "code",
   "execution_count": 3,
   "metadata": {},
   "outputs": [],
   "source": [
    "counts = [get_quantity_of_records(con) for con in db_cons.connections.values()]"
   ]
  },
  {
   "cell_type": "code",
   "execution_count": 4,
   "metadata": {},
   "outputs": [
    {
     "data": {
      "text/plain": [
       "45"
      ]
     },
     "execution_count": 4,
     "metadata": {},
     "output_type": "execute_result"
    }
   ],
   "source": [
    "sum(counts)"
   ]
  }
 ],
 "metadata": {
  "kernelspec": {
   "display_name": "Python 3.9.12 ('flaskAPI-smYjBpxz')",
   "language": "python",
   "name": "python3"
  },
  "language_info": {
   "codemirror_mode": {
    "name": "ipython",
    "version": 3
   },
   "file_extension": ".py",
   "mimetype": "text/x-python",
   "name": "python",
   "nbconvert_exporter": "python",
   "pygments_lexer": "ipython3",
   "version": "3.9.12"
  },
  "orig_nbformat": 4,
  "vscode": {
   "interpreter": {
    "hash": "2349b751264a9aaf062018ac95a539bf8b5b8c4feea7b552719ba4b46a9f96c1"
   }
  }
 },
 "nbformat": 4,
 "nbformat_minor": 2
}
