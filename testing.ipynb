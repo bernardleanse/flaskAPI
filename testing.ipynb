{
 "cells": [
  {
   "cell_type": "code",
   "execution_count": 1,
   "metadata": {},
   "outputs": [],
   "source": [
    "from app import get_quantity_of_records, db_cons"
   ]
  },
  {
   "cell_type": "code",
   "execution_count": 2,
   "metadata": {},
   "outputs": [
    {
     "data": {
      "text/plain": [
       "{'alb': <connection object at 0x7ff1c3d836d0; dsn: 'user=seta password=xxx dbname=alb host=seta-alb.cvcpj1fhj3k9.us-east-2.rds.amazonaws.com', closed: 0>,\n",
       " 'arg': <connection object at 0x7ff1c3d83820; dsn: 'user=seta password=xxx dbname=arg host=seta-arg.cvcpj1fhj3k9.us-east-2.rds.amazonaws.com', closed: 0>,\n",
       " 'aus': <connection object at 0x7ff1c3d83970; dsn: 'user=seta password=xxx dbname=aus host=seta-aus.cvcpj1fhj3k9.us-east-2.rds.amazonaws.com', closed: 0>,\n",
       " 'aut': <connection object at 0x7ff1c3d83ac0; dsn: 'user=seta password=xxx dbname=aut host=seta-aut.cvcpj1fhj3k9.us-east-2.rds.amazonaws.com', closed: 0>,\n",
       " 'bel': <connection object at 0x7ff1c3d83c10; dsn: 'user=seta password=xxx dbname=bel host=seta-bel.cvcpj1fhj3k9.us-east-2.rds.amazonaws.com', closed: 0>,\n",
       " 'bgr': <connection object at 0x7ff1c3d83d60; dsn: 'user=seta password=xxx dbname=bgr host=seta-bgr.cvcpj1fhj3k9.us-east-2.rds.amazonaws.com', closed: 0>,\n",
       " 'bih': <connection object at 0x7ff1c3d83eb0; dsn: 'user=seta password=xxx dbname=bih host=seta-bih.cvcpj1fhj3k9.us-east-2.rds.amazonaws.com', closed: 0>,\n",
       " 'blr': <connection object at 0x7ff1c3dbc040; dsn: 'user=seta password=xxx dbname=blr host=seta-blr.cvcpj1fhj3k9.us-east-2.rds.amazonaws.com', closed: 0>,\n",
       " 'bra': <connection object at 0x7ff1c3dbc190; dsn: 'user=seta password=xxx dbname=bra host=seta-bra.cvcpj1fhj3k9.us-east-2.rds.amazonaws.com', closed: 0>,\n",
       " 'brn': <connection object at 0x7ff1c3dbc2e0; dsn: 'user=seta password=xxx dbname=brn host=seta-brn.cvcpj1fhj3k9.us-east-2.rds.amazonaws.com', closed: 0>,\n",
       " 'can': <connection object at 0x7ff1c3dbc430; dsn: 'user=seta password=xxx dbname=can host=seta-can.cvcpj1fhj3k9.us-east-2.rds.amazonaws.com', closed: 0>,\n",
       " 'che': <connection object at 0x7ff1c3dbc580; dsn: 'user=seta password=xxx dbname=che host=seta-che.cvcpj1fhj3k9.us-east-2.rds.amazonaws.com', closed: 0>,\n",
       " 'chl': <connection object at 0x7ff1c3dbc6d0; dsn: 'user=seta password=xxx dbname=chl host=seta-chl.cvcpj1fhj3k9.us-east-2.rds.amazonaws.com', closed: 0>,\n",
       " 'col': <connection object at 0x7ff1c3dbc820; dsn: 'user=seta password=xxx dbname=col host=seta-col.cvcpj1fhj3k9.us-east-2.rds.amazonaws.com', closed: 0>,\n",
       " 'cri': <connection object at 0x7ff1c3dbc970; dsn: 'user=seta password=xxx dbname=cri host=seta-cri.cvcpj1fhj3k9.us-east-2.rds.amazonaws.com', closed: 0>,\n",
       " 'cze': <connection object at 0x7ff1c3dbcac0; dsn: 'user=seta password=xxx dbname=cze host=seta-cze.cvcpj1fhj3k9.us-east-2.rds.amazonaws.com', closed: 0>,\n",
       " 'deu': <connection object at 0x7ff1c3dbcc10; dsn: 'user=seta password=xxx dbname=deu host=seta-deu.cvcpj1fhj3k9.us-east-2.rds.amazonaws.com', closed: 0>,\n",
       " 'dnk': <connection object at 0x7ff1c3dbcd60; dsn: 'user=seta password=xxx dbname=dnk host=seta-dnk.cvcpj1fhj3k9.us-east-2.rds.amazonaws.com', closed: 0>,\n",
       " 'dom': <connection object at 0x7ff1c3dbceb0; dsn: 'user=seta password=xxx dbname=dom host=seta-dom.cvcpj1fhj3k9.us-east-2.rds.amazonaws.com', closed: 0>,\n",
       " 'esp': <connection object at 0x7ff1c3dbe040; dsn: 'user=seta password=xxx dbname=esp host=seta-esp.cvcpj1fhj3k9.us-east-2.rds.amazonaws.com', closed: 0>,\n",
       " 'est': <connection object at 0x7ff1c3dbe190; dsn: 'user=seta password=xxx dbname=est host=seta-est.cvcpj1fhj3k9.us-east-2.rds.amazonaws.com', closed: 0>,\n",
       " 'fin': <connection object at 0x7ff1c3dbe2e0; dsn: 'user=seta password=xxx dbname=fin host=seta-fin.cvcpj1fhj3k9.us-east-2.rds.amazonaws.com', closed: 0>,\n",
       " 'fra': <connection object at 0x7ff1c3dbe430; dsn: 'user=seta password=xxx dbname=fra host=seta-fra.cvcpj1fhj3k9.us-east-2.rds.amazonaws.com', closed: 0>,\n",
       " 'gbr': <connection object at 0x7ff1c3dbe580; dsn: 'user=seta password=xxx dbname=gbr host=seta-gbr.cvcpj1fhj3k9.us-east-2.rds.amazonaws.com', closed: 0>,\n",
       " 'geo': <connection object at 0x7ff1c3dbe6d0; dsn: 'user=seta password=xxx dbname=geo host=seta-geo.cvcpj1fhj3k9.us-east-2.rds.amazonaws.com', closed: 0>,\n",
       " 'grc': <connection object at 0x7ff1c3dbe820; dsn: 'user=seta password=xxx dbname=grc host=seta-grc.cvcpj1fhj3k9.us-east-2.rds.amazonaws.com', closed: 0>,\n",
       " 'hkg': <connection object at 0x7ff1c3dbe970; dsn: 'user=seta password=xxx dbname=hkg host=seta-hkg.cvcpj1fhj3k9.us-east-2.rds.amazonaws.com', closed: 0>,\n",
       " 'hrv': <connection object at 0x7ff1c3dbeac0; dsn: 'user=seta password=xxx dbname=hrv host=seta-hrv.cvcpj1fhj3k9.us-east-2.rds.amazonaws.com', closed: 0>,\n",
       " 'hun': <connection object at 0x7ff1c3dbec10; dsn: 'user=seta password=xxx dbname=hun host=seta-hun.cvcpj1fhj3k9.us-east-2.rds.amazonaws.com', closed: 0>,\n",
       " 'idn': <connection object at 0x7ff1c3dbed60; dsn: 'user=seta password=xxx dbname=idn host=seta-idn.cvcpj1fhj3k9.us-east-2.rds.amazonaws.com', closed: 0>,\n",
       " 'irl': <connection object at 0x7ff1c3dbeeb0; dsn: 'user=seta password=xxx dbname=irl host=seta-irl.cvcpj1fhj3k9.us-east-2.rds.amazonaws.com', closed: 0>,\n",
       " 'isl': <connection object at 0x7ff1c3dc1040; dsn: 'user=seta password=xxx dbname=isl host=seta-isl.cvcpj1fhj3k9.us-east-2.rds.amazonaws.com', closed: 0>,\n",
       " 'isr': <connection object at 0x7ff1c3dc1190; dsn: 'user=seta password=xxx dbname=isr host=seta-isr.cvcpj1fhj3k9.us-east-2.rds.amazonaws.com', closed: 0>,\n",
       " 'ita': <connection object at 0x7ff1c3dc12e0; dsn: 'user=seta password=xxx dbname=ita host=seta-ita.cvcpj1fhj3k9.us-east-2.rds.amazonaws.com', closed: 0>,\n",
       " 'jor': <connection object at 0x7ff1c3dc1430; dsn: 'user=seta password=xxx dbname=jor host=seta-jor.cvcpj1fhj3k9.us-east-2.rds.amazonaws.com', closed: 0>,\n",
       " 'jpn': <connection object at 0x7ff1c3dc1580; dsn: 'user=seta password=xxx dbname=jpn host=seta-jpn.cvcpj1fhj3k9.us-east-2.rds.amazonaws.com', closed: 0>,\n",
       " 'kaz': <connection object at 0x7ff1c3dc16d0; dsn: 'user=seta password=xxx dbname=kaz host=seta-kaz.cvcpj1fhj3k9.us-east-2.rds.amazonaws.com', closed: 0>,\n",
       " 'kor': <connection object at 0x7ff1c3dc1820; dsn: 'user=seta password=xxx dbname=kor host=seta-kor.cvcpj1fhj3k9.us-east-2.rds.amazonaws.com', closed: 0>,\n",
       " 'ksv': <connection object at 0x7ff1c3dc1970; dsn: 'user=seta password=xxx dbname=ksv host=seta-ksv.cvcpj1fhj3k9.us-east-2.rds.amazonaws.com', closed: 0>,\n",
       " 'lbn': <connection object at 0x7ff1c3dc1ac0; dsn: 'user=seta password=xxx dbname=lbn host=seta-lbn.cvcpj1fhj3k9.us-east-2.rds.amazonaws.com', closed: 0>,\n",
       " 'ltu': <connection object at 0x7ff1c3dc1c10; dsn: 'user=seta password=xxx dbname=ltu host=seta-ltu.cvcpj1fhj3k9.us-east-2.rds.amazonaws.com', closed: 0>,\n",
       " 'lux': <connection object at 0x7ff1c3dc1d60; dsn: 'user=seta password=xxx dbname=lux host=seta-lux.cvcpj1fhj3k9.us-east-2.rds.amazonaws.com', closed: 0>,\n",
       " 'lva': <connection object at 0x7ff1c3dc1eb0; dsn: 'user=seta password=xxx dbname=lva host=seta-lva.cvcpj1fhj3k9.us-east-2.rds.amazonaws.com', closed: 0>,\n",
       " 'mac': <connection object at 0x7ff1c3dc3040; dsn: 'user=seta password=xxx dbname=mac host=seta-mac.cvcpj1fhj3k9.us-east-2.rds.amazonaws.com', closed: 0>,\n",
       " 'mar': <connection object at 0x7ff1c3dc3190; dsn: 'user=seta password=xxx dbname=mar host=seta-mar.cvcpj1fhj3k9.us-east-2.rds.amazonaws.com', closed: 0>,\n",
       " 'mda': <connection object at 0x7ff1c3dc32e0; dsn: 'user=seta password=xxx dbname=mda host=seta-mda.cvcpj1fhj3k9.us-east-2.rds.amazonaws.com', closed: 0>,\n",
       " 'mex': <connection object at 0x7ff1c3dc3430; dsn: 'user=seta password=xxx dbname=mex host=seta-mex.cvcpj1fhj3k9.us-east-2.rds.amazonaws.com', closed: 0>,\n",
       " 'mkd': <connection object at 0x7ff1c3dc3580; dsn: 'user=seta password=xxx dbname=mkd host=seta-mkd.cvcpj1fhj3k9.us-east-2.rds.amazonaws.com', closed: 0>,\n",
       " 'mlt': <connection object at 0x7ff1c3dc36d0; dsn: 'user=seta password=xxx dbname=mlt host=seta-mlt.cvcpj1fhj3k9.us-east-2.rds.amazonaws.com', closed: 0>,\n",
       " 'mne': <connection object at 0x7ff1c3dc3820; dsn: 'user=seta password=xxx dbname=mne host=seta-mne.cvcpj1fhj3k9.us-east-2.rds.amazonaws.com', closed: 0>,\n",
       " 'mys': <connection object at 0x7ff1c3dc3970; dsn: 'user=seta password=xxx dbname=mys host=seta-mys.cvcpj1fhj3k9.us-east-2.rds.amazonaws.com', closed: 0>,\n",
       " 'nld': <connection object at 0x7ff1c3dc3ac0; dsn: 'user=seta password=xxx dbname=nld host=seta-nld.cvcpj1fhj3k9.us-east-2.rds.amazonaws.com', closed: 0>,\n",
       " 'nor': <connection object at 0x7ff1c3dc3c10; dsn: 'user=seta password=xxx dbname=nor host=seta-nor.cvcpj1fhj3k9.us-east-2.rds.amazonaws.com', closed: 0>,\n",
       " 'nzl': <connection object at 0x7ff1c3dc3d60; dsn: 'user=seta password=xxx dbname=nzl host=seta-nzl.cvcpj1fhj3k9.us-east-2.rds.amazonaws.com', closed: 0>,\n",
       " 'pan': <connection object at 0x7ff1c3dc3eb0; dsn: 'user=seta password=xxx dbname=pan host=seta-pan.cvcpj1fhj3k9.us-east-2.rds.amazonaws.com', closed: 0>,\n",
       " 'per': <connection object at 0x7ff1c3dc5040; dsn: 'user=seta password=xxx dbname=per host=seta-per.cvcpj1fhj3k9.us-east-2.rds.amazonaws.com', closed: 0>,\n",
       " 'phl': <connection object at 0x7ff1c3dc5190; dsn: 'user=seta password=xxx dbname=phl host=seta-phl.cvcpj1fhj3k9.us-east-2.rds.amazonaws.com', closed: 0>,\n",
       " 'pol': <connection object at 0x7ff1c3dc52e0; dsn: 'user=seta password=xxx dbname=pol host=seta-pol.cvcpj1fhj3k9.us-east-2.rds.amazonaws.com', closed: 0>,\n",
       " 'prt': <connection object at 0x7ff1c3dc5430; dsn: 'user=seta password=xxx dbname=prt host=seta-prt.cvcpj1fhj3k9.us-east-2.rds.amazonaws.com', closed: 0>,\n",
       " 'qat': <connection object at 0x7ff1c3dc5580; dsn: 'user=seta password=xxx dbname=qat host=seta-qat.cvcpj1fhj3k9.us-east-2.rds.amazonaws.com', closed: 0>,\n",
       " 'qaz': <connection object at 0x7ff1c3dc56d0; dsn: 'user=seta password=xxx dbname=qaz host=seta-qaz.cvcpj1fhj3k9.us-east-2.rds.amazonaws.com', closed: 0>,\n",
       " 'qci': <connection object at 0x7ff1c3dc5820; dsn: 'user=seta password=xxx dbname=qci host=seta-qci.cvcpj1fhj3k9.us-east-2.rds.amazonaws.com', closed: 0>,\n",
       " 'qmr': <connection object at 0x7ff1c3dc5970; dsn: 'user=seta password=xxx dbname=qmr host=seta-qmr.cvcpj1fhj3k9.us-east-2.rds.amazonaws.com', closed: 0>,\n",
       " 'qrt': <connection object at 0x7ff1c3dc5ac0; dsn: 'user=seta password=xxx dbname=qrt host=seta-qrt.cvcpj1fhj3k9.us-east-2.rds.amazonaws.com', closed: 0>,\n",
       " 'rou': <connection object at 0x7ff1c3dc5c10; dsn: 'user=seta password=xxx dbname=rou host=seta-rou.cvcpj1fhj3k9.us-east-2.rds.amazonaws.com', closed: 0>,\n",
       " 'rus': <connection object at 0x7ff1c3dc5d60; dsn: 'user=seta password=xxx dbname=rus host=seta-rus.cvcpj1fhj3k9.us-east-2.rds.amazonaws.com', closed: 0>,\n",
       " 'sau': <connection object at 0x7ff1c3dc5eb0; dsn: 'user=seta password=xxx dbname=sau host=seta-sau.cvcpj1fhj3k9.us-east-2.rds.amazonaws.com', closed: 0>,\n",
       " 'sgp': <connection object at 0x7ff1c3dc7040; dsn: 'user=seta password=xxx dbname=sgp host=seta-sgp.cvcpj1fhj3k9.us-east-2.rds.amazonaws.com', closed: 0>,\n",
       " 'srb': <connection object at 0x7ff1c3dc7190; dsn: 'user=seta password=xxx dbname=srb host=seta-srb.cvcpj1fhj3k9.us-east-2.rds.amazonaws.com', closed: 0>,\n",
       " 'svk': <connection object at 0x7ff1c3dc72e0; dsn: 'user=seta password=xxx dbname=svk host=seta-svk.cvcpj1fhj3k9.us-east-2.rds.amazonaws.com', closed: 0>,\n",
       " 'svn': <connection object at 0x7ff1c3dc7430; dsn: 'user=seta password=xxx dbname=svn host=seta-svn.cvcpj1fhj3k9.us-east-2.rds.amazonaws.com', closed: 0>,\n",
       " 'swe': <connection object at 0x7ff1c3dc7580; dsn: 'user=seta password=xxx dbname=swe host=seta-swe.cvcpj1fhj3k9.us-east-2.rds.amazonaws.com', closed: 0>,\n",
       " 'tap': <connection object at 0x7ff1c3dc76d0; dsn: 'user=seta password=xxx dbname=tap host=seta-tap.cvcpj1fhj3k9.us-east-2.rds.amazonaws.com', closed: 0>,\n",
       " 'tha': <connection object at 0x7ff1c3dc7820; dsn: 'user=seta password=xxx dbname=tha host=seta-tha.cvcpj1fhj3k9.us-east-2.rds.amazonaws.com', closed: 0>,\n",
       " 'tur': <connection object at 0x7ff1c3dc7970; dsn: 'user=seta password=xxx dbname=tur host=seta-tur.cvcpj1fhj3k9.us-east-2.rds.amazonaws.com', closed: 0>,\n",
       " 'ukr': <connection object at 0x7ff1c3dc7ac0; dsn: 'user=seta password=xxx dbname=ukr host=seta-ukr.cvcpj1fhj3k9.us-east-2.rds.amazonaws.com', closed: 0>,\n",
       " 'ury': <connection object at 0x7ff1c3dc7c10; dsn: 'user=seta password=xxx dbname=ury host=seta-ury.cvcpj1fhj3k9.us-east-2.rds.amazonaws.com', closed: 0>,\n",
       " 'usa': <connection object at 0x7ff1c3dc7d60; dsn: 'user=seta password=xxx dbname=usa host=seta-usa.cvcpj1fhj3k9.us-east-2.rds.amazonaws.com', closed: 0>,\n",
       " 'vnm': <connection object at 0x7ff1c3dc7eb0; dsn: 'user=seta password=xxx dbname=vnm host=seta-vnm.cvcpj1fhj3k9.us-east-2.rds.amazonaws.com', closed: 0>}"
      ]
     },
     "execution_count": 2,
     "metadata": {},
     "output_type": "execute_result"
    }
   ],
   "source": [
    "db_cons.connections"
   ]
  },
  {
   "cell_type": "code",
   "execution_count": 6,
   "metadata": {},
   "outputs": [],
   "source": [
    "counts = [get_quantity_of_records(con) for con in db_cons.connections.values()]"
   ]
  },
  {
   "cell_type": "code",
   "execution_count": 8,
   "metadata": {},
   "outputs": [
    {
     "data": {
      "text/plain": [
       "149"
      ]
     },
     "execution_count": 8,
     "metadata": {},
     "output_type": "execute_result"
    }
   ],
   "source": [
    "sum(counts)"
   ]
  }
 ],
 "metadata": {
  "kernelspec": {
   "display_name": "Python 3.9.12 ('flaskAPI-smYjBpxz')",
   "language": "python",
   "name": "python3"
  },
  "language_info": {
   "codemirror_mode": {
    "name": "ipython",
    "version": 3
   },
   "file_extension": ".py",
   "mimetype": "text/x-python",
   "name": "python",
   "nbconvert_exporter": "python",
   "pygments_lexer": "ipython3",
   "version": "3.9.12"
  },
  "orig_nbformat": 4,
  "vscode": {
   "interpreter": {
    "hash": "2349b751264a9aaf062018ac95a539bf8b5b8c4feea7b552719ba4b46a9f96c1"
   }
  }
 },
 "nbformat": 4,
 "nbformat_minor": 2
}
